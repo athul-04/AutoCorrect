{
  "nbformat": 4,
  "nbformat_minor": 0,
  "metadata": {
    "colab": {
      "provenance": []
    },
    "kernelspec": {
      "name": "python3",
      "display_name": "Python 3"
    },
    "language_info": {
      "name": "python"
    },
    "accelerator": "GPU",
    "gpuClass": "standard"
  },
  "cells": [
    {
      "cell_type": "code",
      "execution_count": null,
      "metadata": {
        "id": "k0cV5DW5_d5a"
      },
      "outputs": [],
      "source": [
        "import pandas as pd\n",
        "import numpy as np\n",
        "import math\n",
        "import numpy as np\n",
        "from scipy.optimize import curve_fit\n",
        "import matplotlib.pyplot as plt\n",
        "import time"
      ]
    },
    {
      "cell_type": "code",
      "source": [
        "from google.colab import drive\n",
        "drive.mount('/content/drive')"
      ],
      "metadata": {
        "id": "FhxcBErrDjUC"
      },
      "execution_count": null,
      "outputs": []
    },
    {
      "cell_type": "code",
      "source": [
        "import nltk\n",
        "nltk.download('wordnet')"
      ],
      "metadata": {
        "colab": {
          "base_uri": "https://localhost:8080/"
        },
        "id": "WWKXF21i5UZy",
        "outputId": "93dae5ca-9e43-4b4f-e1ac-18780d04126b"
      },
      "execution_count": null,
      "outputs": [
        {
          "output_type": "stream",
          "name": "stderr",
          "text": [
            "[nltk_data] Downloading package wordnet to /root/nltk_data...\n"
          ]
        },
        {
          "output_type": "execute_result",
          "data": {
            "text/plain": [
              "True"
            ]
          },
          "metadata": {},
          "execution_count": 2
        }
      ]
    },
    {
      "cell_type": "code",
      "source": [
        "import nltk\n",
        "from nltk.corpus import wordnet\n",
        "\n",
        "synsets = list(wordnet.all_synsets())\n",
        "\n",
        "words = set()\n",
        "\n",
        "for synset in synsets:\n",
        "    for lemma in synset.lemmas():\n",
        "        if not lemma.name().isalpha():\n",
        "          continue\n",
        "        words.add(lemma.name())\n",
        "\n",
        "data = pd.DataFrame(words)\n",
        "print(len(data))"
      ],
      "metadata": {
        "id": "nYyJBN_r3M6a",
        "colab": {
          "base_uri": "https://localhost:8080/"
        },
        "outputId": "a2968463-ba2f-4c5d-f3a2-4306ec28eafb"
      },
      "execution_count": null,
      "outputs": [
        {
          "output_type": "stream",
          "name": "stdout",
          "text": [
            "78865\n"
          ]
        }
      ]
    },
    {
      "cell_type": "code",
      "source": [
        "with open('wordnet_corpus.txt', 'w') as f:\n",
        "    for line in words:\n",
        "        # f.write(data[line][1])\n",
        "        # print(data[line])\n",
        "        f.write(line)\n",
        "        f.write('\\n')"
      ],
      "metadata": {
        "id": "-veoq_Cn95aZ"
      },
      "execution_count": null,
      "outputs": []
    },
    {
      "cell_type": "code",
      "source": [
        "\n",
        "test_data_dict = {}\n",
        "\n",
        "test_data =pd.read_csv(\"/content/drive/MyDrive/archive (1)/aspell.txt\",sep=\":\", header=None, dtype=str)\n",
        "\n",
        "# print(test_data.head())\n",
        "print(len(test_data))\n",
        "\n",
        "for i in range(len(test_data)):\n",
        "  p1=test_data.iloc[i,0]\n",
        "  p2 = test_data.iloc[i,1]\n",
        "  p2 = p2[1:].split(\" \")\n",
        "  if len(p2)>1:\n",
        "    continue\n",
        "  p2 = p2[0]\n",
        "  if not (p1.isalpha() and p2.isalpha()):\n",
        "    continue\n",
        "  test_data_dict[p1.lower()] = p2.lower()\n",
        "\n",
        "# print(test_data_dict)"
      ],
      "metadata": {
        "id": "GQsEpa3GHsgX",
        "colab": {
          "base_uri": "https://localhost:8080/"
        },
        "outputId": "02a42343-3d3a-495d-b2af-60fa59067739"
      },
      "execution_count": null,
      "outputs": [
        {
          "output_type": "stream",
          "name": "stdout",
          "text": [
            "450\n"
          ]
        }
      ]
    },
    {
      "cell_type": "code",
      "source": [
        "def min_edit_distance(source, target):\n",
        "  ins_cost = 1\n",
        "  del_cost = 1\n",
        "  rep_cost = 1\n",
        "  \n",
        "  m = len(source) \n",
        "  n = len(target) \n",
        "  \n",
        "  D = np.zeros((m+1, n+1), dtype=int) \n",
        "  \n",
        "  for row in range(1,m+1): \n",
        "      D[row,0] = D[row-1,0] + del_cost\n",
        "      \n",
        "  for col in range(1,n+1): \n",
        "      D[0,col] = D[0,col-1] + ins_cost\n",
        "      \n",
        "  for row in range(1,m+1): \n",
        "      \n",
        "      for col in range(1,n+1):\n",
        "          \n",
        "          r_cost = rep_cost\n",
        "          \n",
        "          if source[row-1] == target[col-1]:\n",
        "              r_cost = 0\n",
        "              \n",
        "          D[row,col] = min([D[row-1,col]+del_cost, D[row,col-1]+ins_cost, D[row-1,col-1]+r_cost])\n",
        "        \n",
        "  med = D[m,n]\n",
        "  \n",
        "  return med"
      ],
      "metadata": {
        "id": "mMqInYfeH39j"
      },
      "execution_count": null,
      "outputs": []
    },
    {
      "cell_type": "code",
      "source": [
        "def encode_word(s1,key_value):\n",
        "\n",
        "  v=0\n",
        "  for i in s1:\n",
        "    v+=key_value[i.lower()]\n",
        "    \n",
        "  return v"
      ],
      "metadata": {
        "id": "SLx33IE1RZO1"
      },
      "execution_count": null,
      "outputs": []
    },
    {
      "cell_type": "code",
      "source": [
        "def create_value_word(data,value_word,key_value):\n",
        "\n",
        "  for i in range(len(data)):\n",
        "    s1= data.iloc[i,0]\n",
        "\n",
        "    # print(i)\n",
        "    \n",
        "    if not s1.isalpha():\n",
        "      continue\n",
        "\n",
        "    v = encode_word(s1,key_value)\n",
        "\n",
        "    value_word[v] = value_word.get(v, []) \n",
        "    value_word[v].append(s1)\n",
        "  return value_word\n",
        "   "
      ],
      "metadata": {
        "id": "BCKajn1uSCPV"
      },
      "execution_count": null,
      "outputs": []
    },
    {
      "cell_type": "code",
      "source": [
        "def create_key_value(pair):\n",
        "  start = pair[0]\n",
        "  i = 0\n",
        "  j = 0\n",
        "  adj_change = 2\n",
        "  row_change = 3\n",
        "  key_value = {}\n",
        "  \n",
        "  keyboard = [\"qwertyuiop\",\"asdfghjkl\",\"zxcvbnm\"]\n",
        "  \n",
        "  for i,a in enumerate(keyboard):  \n",
        "    if start in a:\n",
        "      j = a.index(start)\n",
        "      break\n",
        "  # print(i,j)\n",
        "    \n",
        "  l1 = [0,1,2]\n",
        "\n",
        "  for k_i in l1:\n",
        "    h = abs(i-k_i)\n",
        "    for k_j,k_a in enumerate(keyboard[k_i]):\n",
        "      key_value[k_a] = abs(k_j - j)*adj_change + h*row_change\n",
        "  # print(key_value)\n",
        "  \n",
        "  \n",
        "  start = pair[1]\n",
        "  i = 0\n",
        "  j = 0\n",
        "  \n",
        "  for i,a in enumerate(keyboard):  \n",
        "    if start in a:\n",
        "      j = a.index(start)\n",
        "      break\n",
        "  # print(i,j)\n",
        "    \n",
        "  l1 = [0,1,2]\n",
        "\n",
        "  for k_i in l1:\n",
        "    h = abs(i-k_i)\n",
        "    for k_j,k_a in enumerate(keyboard[k_i]):\n",
        "      key_value[k_a] =min(abs(k_j - j)*adj_change + h*row_change ,key_value[k_a])\n",
        "  # print(key_value)\n",
        "  return key_value\n"
      ],
      "metadata": {
        "id": "LBWftbILprZW"
      },
      "execution_count": null,
      "outputs": []
    },
    {
      "cell_type": "code",
      "source": [
        "def optimize(test_data_dict):\n",
        "  \n",
        "  min_v = 100000\n",
        "  min_key_value = {}\n",
        "  min_pair = []\n",
        "\n",
        "  pairs = []\n",
        "  \n",
        "  letters = \"abcdefghifklmnopqrstuvwxyz\"\n",
        "  \n",
        "  for i in range(len(letters)):\n",
        "    for j in range(i,len(letters)):\n",
        "      pairs.append([letters[i],letters[j]])\n",
        "  \n",
        "  for pair in pairs:  \n",
        "    \n",
        "    key_value = create_key_value(pair)\n",
        "    \n",
        "    v = 0\n",
        "    \n",
        "    for p1 in test_data_dict:\n",
        "      v += abs(encode_word(p1,key_value)-encode_word(test_data_dict[p1],key_value))\n",
        "    \n",
        "    if v<min_v:\n",
        "      min_v = v\n",
        "      min_pair = pair\n",
        "      min_key_value = key_value \n",
        "    # print(pair,min_pair,v,min_v)\n",
        "\n",
        "  print(min_pair)\n",
        "  return min_key_value\n",
        "\n",
        "key_value = optimize(test_data_dict)\n"
      ],
      "metadata": {
        "id": "BwrLI8i6KmJs",
        "colab": {
          "base_uri": "https://localhost:8080/"
        },
        "outputId": "e945b182-cfe0-43f1-c403-01ea78714f2f"
      },
      "execution_count": null,
      "outputs": [
        {
          "output_type": "stream",
          "name": "stdout",
          "text": [
            "['d', 'u']\n"
          ]
        }
      ]
    },
    {
      "cell_type": "code",
      "source": [
        "def letter_length_error(test_data_dict, key_value):\n",
        "  \n",
        "  letter_error = {}\n",
        "  \n",
        "  for i in range(1,14):\n",
        "    n = 0\n",
        "    v = 0\n",
        "    \n",
        "    for j in test_data_dict:\n",
        "      p1 = j\n",
        "      p2 = test_data_dict[j]\n",
        "\n",
        "      if len(p1) != i:\n",
        "        continue\n",
        "      \n",
        "      n += 1\n",
        "      v += abs(encode_word(p1,key_value) - encode_word(test_data_dict[p1],key_value))\n",
        "    \n",
        "    if n!=0:\n",
        "      letter_error[i]=v/n\n",
        "\n",
        "  return letter_error\n",
        "\n",
        "# print(test_data_dict)\n",
        "letter_error = letter_length_error(test_data_dict,key_value)\n",
        "letter_error\n"
      ],
      "metadata": {
        "id": "oHeu6Gfaris2",
        "colab": {
          "base_uri": "https://localhost:8080/"
        },
        "outputId": "65273f1a-086e-4e5a-fd69-d96fdc129e48"
      },
      "execution_count": null,
      "outputs": [
        {
          "output_type": "execute_result",
          "data": {
            "text/plain": [
              "{2: 2.0,\n",
              " 3: 1.8,\n",
              " 4: 3.6666666666666665,\n",
              " 5: 2.1842105263157894,\n",
              " 6: 3.688888888888889,\n",
              " 7: 2.9855072463768115,\n",
              " 8: 2.909090909090909,\n",
              " 9: 4.0625,\n",
              " 10: 4.162162162162162,\n",
              " 11: 4.166666666666667,\n",
              " 12: 4.380952380952381,\n",
              " 13: 9.125}"
            ]
          },
          "metadata": {},
          "execution_count": 11
        }
      ]
    },
    {
      "cell_type": "code",
      "source": [
        "value_word = {}\n",
        "create_value_word(data,value_word,key_value)\n",
        "print()"
      ],
      "metadata": {
        "id": "W2PK1y0XSzRk",
        "colab": {
          "base_uri": "https://localhost:8080/"
        },
        "outputId": "6088d456-346e-4a72-a737-7998fb322606"
      },
      "execution_count": null,
      "outputs": [
        {
          "output_type": "stream",
          "name": "stdout",
          "text": [
            "\n"
          ]
        }
      ]
    },
    {
      "cell_type": "code",
      "source": [
        "\n",
        "def func(x, a, b, c):\n",
        "    return a * x**2 + b * x + c\n",
        "print(list(letter_error.keys()))\n",
        "x = 3\n",
        "xdata = list(letter_error.keys())\n",
        "ydata = list(letter_error.values())\n",
        "\n",
        "popt, pcov = curve_fit(func, xdata, ydata)\n",
        "\n",
        "# print('a =', popt[0], ', b =', popt[1], ', c =', popt[2])\n",
        "\n",
        "eqn = f'y = {popt[0]}*x**2 + {popt[1]}*x + {popt[2]}'\n",
        "\n",
        "x=np.linspace(2,15,100)\n",
        "y = popt[0]*x**2 + popt[1]*x + popt[2]\n",
        "\n",
        "plt.scatter(xdata,ydata)\n",
        "plt.scatter(x,y)\n",
        "plt.title(eqn)\n",
        "def threshold(x):\n",
        "  return math.floor(popt[0]*x**2 + popt[1]*x + popt[2])\n",
        "\n",
        "# math.floor(popt[0]*x**2 + popt[1]**x + popt[2])"
      ],
      "metadata": {
        "id": "T2VpMrYkQRUE",
        "colab": {
          "base_uri": "https://localhost:8080/",
          "height": 469
        },
        "outputId": "2ee37a2f-1b9d-407f-b055-55d0710e8ee8"
      },
      "execution_count": null,
      "outputs": [
        {
          "output_type": "stream",
          "name": "stdout",
          "text": [
            "[2, 3, 4, 5, 6, 7, 8, 9, 10, 11, 12, 13]\n"
          ]
        },
        {
          "output_type": "display_data",
          "data": {
            "text/plain": [
              "<Figure size 640x480 with 1 Axes>"
            ],
            "image/png": "[encoded data removed]"
          },
          "metadata": {}
        }
      ]
    },
    {
      "cell_type": "code",
      "source": [
        "\n",
        "\n",
        "def func(x, a, b, c, d):\n",
        "    return a * x**3 + b * x**2 + c*x + d\n",
        "\n",
        "\n",
        "x = 3\n",
        "\n",
        "xdata = list(letter_error.keys())\n",
        "ydata = list(letter_error.values())\n",
        "\n",
        "popt, pcov = curve_fit(func, xdata, ydata)\n",
        "\n",
        "# print('a =', popt[0], ', b =', popt[1], ', c =', popt[2])\n",
        "\n",
        "# eqn = f'y = {popt[0]}*x**3 + {popt[1]}*x**2 + {popt[2]}*x + {popt[3]}'\n",
        "print(eqn)\n",
        "x=np.linspace(2,15,100)\n",
        "y = popt[0]*x**3 + popt[1]*x**2 + popt[2]*x +popt[3]\n",
        "plt.scatter(xdata,ydata)\n",
        "plt.scatter(x,y)\n",
        "\n",
        "\n",
        "# math.floor(popt[0]*x**2 + popt[1]**x + popt[2])"
      ],
      "metadata": {
        "colab": {
          "base_uri": "https://localhost:8080/",
          "height": 465
        },
        "id": "e7IBKUDQ6pTt",
        "outputId": "87ed83a7-56f6-4065-d6cd-a5ea1600bdab"
      },
      "execution_count": null,
      "outputs": [
        {
          "output_type": "stream",
          "name": "stdout",
          "text": [
            "y = 0.0587518965848296*x**2 + -0.4755520620797091*x + 3.322689968832962\n"
          ]
        },
        {
          "output_type": "execute_result",
          "data": {
            "text/plain": [
              "<matplotlib.collections.PathCollection at 0x7f35326cd7f0>"
            ]
          },
          "metadata": {},
          "execution_count": 14
        },
        {
          "output_type": "display_data",
          "data": {
            "text/plain": [
              "<Figure size 640x480 with 1 Axes>"
            ],
            "image/png": "[encoded data removed]"
          },
          "metadata": {}
        }
      ]
    },
    {
      "cell_type": "code",
      "source": [
        "\n",
        "\n",
        "def func(x, a, b, c, d, e):\n",
        "    return a * x**4 + b * x**3 + c*x**2 + d*x + e\n",
        "\n",
        "print(list(letter_error.keys()))\n",
        "x = 3\n",
        "xdata = list(letter_error.keys())\n",
        "ydata = list(letter_error.values())\n",
        "\n",
        "popt, pcov = curve_fit(func, xdata, ydata)\n",
        "\n",
        "# print('a =', popt[0], ', b =', popt[1], ', c =', popt[2])\n",
        "\n",
        "eqn = f'y = {popt[0]}*x**4 + {popt[1]}*x**3 + {popt[2]}*x**2 + {popt[3]}*x + {popt[4]}'\n",
        "x=np.linspace(2,15,100)\n",
        "y = popt[0]*x**4 + popt[1]*x**3 + popt[2]*x**2 +popt[3]*x + popt[4]\n",
        "plt.scatter(xdata,ydata)\n",
        "plt.scatter(x,y)\n",
        "plt.title(eqn)\n",
        "\n",
        "def threshold(x):\n",
        "  return math.ceil(popt[0]*x**4 + popt[1]*x**3 + popt[2]*x**2 +popt[3]*x + popt[4])\n",
        "# math.floor(popt[0]*x**2 + popt[1]**x + popt[2])"
      ],
      "metadata": {
        "colab": {
          "base_uri": "https://localhost:8080/",
          "height": 370
        },
        "id": "SMczw74r69M0",
        "outputId": "79dfefe3-50b3-434f-f581-9f9c42d0109e"
      },
      "execution_count": null,
      "outputs": [
        {
          "output_type": "stream",
          "name": "stdout",
          "text": [
            "[2, 3, 4, 5, 6, 7, 8, 9, 10, 11, 12, 13]\n"
          ]
        },
        {
          "output_type": "display_data",
          "data": {
            "text/plain": [
              "<Figure size 640x480 with 1 Axes>"
            ],
            "image/png": "[encoded data removed]"
          },
          "metadata": {}
        }
      ]
    },
    {
      "cell_type": "code",
      "source": [
        "# def threshold(x):\n",
        "#   # return math.ceil(0.0483816 * x**2 + 0.164845 * x + 4.56322)\n",
        "#   return math.floor(0.0334406*x**2 + 0.0727147*x + 1.86359)"
      ],
      "metadata": {
        "id": "gmHIk_8udMcw"
      },
      "execution_count": null,
      "outputs": []
    },
    {
      "cell_type": "code",
      "source": [
        "def find_accurate_word(s,key_value,value_word):\n",
        "  start = time.time()\n",
        "  v=encode_word(s,key_value)\n",
        "\n",
        "  mi = v - math.floor(threshold(len(s)))\n",
        "  ma = v + math.ceil(threshold(len(s)))\n",
        "\n",
        "  # mi = v - len(s)\n",
        "  # ma = v + len(s)\n",
        "  \n",
        "  print(len(data))\n",
        "  \n",
        "  a=[]\n",
        "\n",
        "  for i in range(mi,ma+1):\n",
        "    for j in value_word.get(i,[]):\n",
        "      a.append([i,j])\n",
        "\n",
        "  b=[]\n",
        "  print(len(a))\n",
        "\n",
        "  for i in a:\n",
        "    b.append([min_edit_distance(s,i[1]),abs(i[0]-v),i[1]])\n",
        "  b = sorted(b, key=lambda x: (x[0],x[1]))\n",
        "  \n",
        "  d=[]\n",
        "  c=0\n",
        "  for i in b:\n",
        "    if c==5:\n",
        "      break\n",
        "    if i[-1][0]==s[0]:\n",
        "      d.append(i)\n",
        "      c+=1\n",
        "      \n",
        "  print(time.time() - start)\n",
        "  return b[:5]\n",
        "      \n",
        "  # print(len(d))\n",
        "  # print(d)\n",
        "\n",
        "  return d[:5]\n",
        "\n"
      ],
      "metadata": {
        "id": "wG1wSGXEaJdF"
      },
      "execution_count": null,
      "outputs": []
    },
    {
      "cell_type": "code",
      "source": [
        "def find_word(s,key_value,value_word):\n",
        "  \n",
        "  start = time.time()\n",
        "  \n",
        "  b=[]\n",
        "  print(len(data))\n",
        "  for i in value_word:\n",
        "    for j in value_word[i]:\n",
        "      b.append([min_edit_distance(s,j),j])\n",
        "  b = sorted(b, key=lambda x: (x[0]))\n",
        "  \n",
        "  d=[]\n",
        "  c=0\n",
        "  for i in b:\n",
        "    if c==5:\n",
        "      break\n",
        "    if i[-1][0]==s[0]:\n",
        "      d.append(i)\n",
        "      c+=1\n",
        "      \n",
        "  print(time.time() - start)\n",
        "  return b[:5]\n",
        "      \n",
        "  # print(len(d))\n",
        "  # print(d)\n",
        "\n",
        "  return d[:5]\n",
        "\n"
      ],
      "metadata": {
        "id": "kNkdvbEOByBJ"
      },
      "execution_count": null,
      "outputs": []
    },
    {
      "cell_type": "code",
      "source": [
        "test = 'indepandnt' \n",
        "result = find_accurate_word(test,key_value,value_word)\n",
        "\n",
        "\n",
        "print(\"The suggested words for \",test )\n",
        "for i in result:\n",
        "  print(i)"
      ],
      "metadata": {
        "colab": {
          "base_uri": "https://localhost:8080/"
        },
        "id": "Kmn2QAvBicHl",
        "outputId": "bc0a7a72-84db-4754-f436-131015db0ce8"
      },
      "execution_count": null,
      "outputs": [
        {
          "output_type": "stream",
          "name": "stdout",
          "text": [
            "78865\n",
            "15689\n",
            "2.524066925048828\n",
            "The suggested words for  indepandnt\n",
            "[2, 2, 'independent']\n",
            "[4, 0, 'undemanding']\n",
            "[4, 3, 'indignant']\n",
            "[4, 3, 'independency']\n",
            "[4, 4, 'independence']\n"
          ]
        }
      ]
    },
    {
      "cell_type": "code",
      "source": [
        "result = find_word(test,key_value,value_word)\n",
        "\n",
        "print(\"The suggested words for \",test )\n",
        "\n",
        "for i in result:\n",
        "\n",
        "  print(i[-1])\n"
      ],
      "metadata": {
        "colab": {
          "base_uri": "https://localhost:8080/"
        },
        "id": "O6dje7RMBowu",
        "outputId": "310517ff-bacd-42db-baa8-d5e03e13649e"
      },
      "execution_count": null,
      "outputs": [
        {
          "output_type": "stream",
          "name": "stdout",
          "text": [
            "78865\n",
            "12.200870752334595\n",
            "The suggested words for  indepandnt\n",
            "independent\n",
            "independence\n",
            "dependant\n",
            "deponent\n",
            "independency\n"
          ]
        }
      ]
    },
    {
      "cell_type": "code",
      "source": [
        "# d=[]\n",
        "# for i in c:\n",
        "#   if i[-1][0]==s[0]:\n",
        "#     d.append(i)\n",
        "    \n",
        "# print(len(d))\n",
        "# d\n"
      ],
      "metadata": {
        "id": "lIXPj7V_JAVT"
      },
      "execution_count": null,
      "outputs": []
    }
  ]
}